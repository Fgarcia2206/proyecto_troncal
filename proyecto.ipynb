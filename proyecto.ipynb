{
 "cells": [
  {
   "cell_type": "markdown",
   "metadata": {},
   "source": [
    "# Fiebre de Norsilk"
   ]
  },
  {
   "cell_type": "code",
   "execution_count": 1,
   "metadata": {},
   "outputs": [
    {
     "name": "stdout",
     "output_type": "stream",
     "text": [
      "Matriz inversa:\n",
      "[[ -1.72626243   2.61222492   1.42422141]\n",
      " [-14.65094529   7.62717264  15.86153376]\n",
      " [ 21.2780693  -11.24277772 -21.32970539]]\n",
      "\n",
      "Matriz original:\n",
      "[[0.37454012 0.95071431 0.73199394]\n",
      " [0.59865848 0.15601864 0.15599452]\n",
      " [0.05808361 0.86617615 0.60111501]]\n",
      "\n",
      "Media: 0.4992549757478559\n",
      "Desviación estándar: 0.30888608340705315\n",
      "Valor máximo: 0.9507143064099162\n",
      "Valor mínimo: 0.05808361216819946\n"
     ]
    }
   ],
   "source": [
    "import numpy as np\n",
    "\n",
    "# Crear una matriz cuadrada de números aleatorios\n",
    "np.random.seed(42)  # Para reproducibilidad\n",
    "matrix = np.random.rand(3, 3)  # Matriz 3x3 con valores entre 0 y 1\n",
    "\n",
    "# Calcular la inversa de la matriz si es invertible\n",
    "if np.linalg.det(matrix) != 0:\n",
    "    inverse_matrix = np.linalg.inv(matrix)\n",
    "    print(\"Matriz inversa:\")\n",
    "    print(inverse_matrix)\n",
    "else:\n",
    "    print(\"La matriz no es invertible\")\n",
    "\n",
    "# Calcular estadísticas básicas\n",
    "mean_value = np.mean(matrix)\n",
    "std_dev = np.std(matrix)\n",
    "max_value = np.max(matrix)\n",
    "min_value = np.min(matrix)\n",
    "\n",
    "print(\"\\nMatriz original:\")\n",
    "print(matrix)\n",
    "print(f\"\\nMedia: {mean_value}\")\n",
    "print(f\"Desviación estándar: {std_dev}\")\n",
    "print(f\"Valor máximo: {max_value}\")\n",
    "print(f\"Valor mínimo: {min_value}\")\n"
   ]
  }
 ],
 "metadata": {
  "kernelspec": {
   "display_name": "biologia_computacional_env",
   "language": "python",
   "name": "biologia_computacional_env"
  },
  "language_info": {
   "codemirror_mode": {
    "name": "ipython",
    "version": 3
   },
   "file_extension": ".py",
   "mimetype": "text/x-python",
   "name": "python",
   "nbconvert_exporter": "python",
   "pygments_lexer": "ipython3",
   "version": "3.12.4"
  }
 },
 "nbformat": 4,
 "nbformat_minor": 2
}
